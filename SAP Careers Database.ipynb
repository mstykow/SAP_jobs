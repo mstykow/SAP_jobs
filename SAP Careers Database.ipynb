{
 "cells": [
  {
   "cell_type": "markdown",
   "metadata": {},
   "source": [
    "# Analysis of SAP Careers Database"
   ]
  },
  {
   "cell_type": "markdown",
   "metadata": {},
   "source": [
    "*Data timestamp: Mar 13, 2019*"
   ]
  },
  {
   "cell_type": "markdown",
   "metadata": {},
   "source": [
    "This notebook analyzes job data from the SAP careers website https://jobs.sap.com/. We first determine the most important requirements for a particular job and then build a model to predict a job title given a list of job requirements."
   ]
  },
  {
   "cell_type": "markdown",
   "metadata": {},
   "source": [
    "## Contents:\n",
    "**[1. Analysis of the most common uni- and bi-grams among job requirements](#ngrams)**\n",
    "\n",
    "&nbsp;&nbsp;&nbsp;&nbsp;&nbsp;**[1.1 Analysis by frequency](#freq)**\n",
    "\n",
    "&nbsp;&nbsp;&nbsp;&nbsp;&nbsp;**[1.2 Analysis by pointwise mutual information (PMI) and hypothesis testing](#PMI)**\n",
    "\n",
    "**[2. Building a job title predictor](#predictor)**\n",
    "\n",
    "&nbsp;&nbsp;&nbsp;&nbsp;&nbsp;**[2.1 Obtaining more data](#moredata)**\n",
    "\n",
    "&nbsp;&nbsp;&nbsp;&nbsp;&nbsp;**[2.2 Label encoding](#labels)**\n",
    "\n",
    "&nbsp;&nbsp;&nbsp;&nbsp;&nbsp;**[2.3 Vectorization and classification](#classify)**\n",
    "\n",
    "&nbsp;&nbsp;&nbsp;&nbsp;&nbsp;**[2.4 Visualization](#visualize)**\n",
    "\n",
    "&nbsp;&nbsp;&nbsp;&nbsp;&nbsp;**[2.5 Prediction](#predict)**\n",
    "\n",
    "**[3. Conclusion](#conclusion)**"
   ]
  },
  {
   "cell_type": "markdown",
   "metadata": {},
   "source": [
    "<a id='ngrams'></a>\n",
    "## 1. Analysis of the most common uni- and bi-grams among job requirements"
   ]
  },
  {
   "cell_type": "markdown",
   "metadata": {},
   "source": [
    "<a id='freq'></a>\n",
    "### 1.1 Analysis by frequency"
   ]
  },
  {
   "cell_type": "markdown",
   "metadata": {},
   "source": [
    "Let's find out what the most important job requirements for a data scientist at SAP are."
   ]
  },
  {
   "cell_type": "code",
   "execution_count": 1,
   "metadata": {},
   "outputs": [],
   "source": [
    "# Load data science modules\n",
    "import numpy as np\n",
    "import pandas as pd\n",
    "%matplotlib inline\n",
    "import matplotlib.pyplot as plt\n",
    "plt.style.use('ggplot')\n",
    "import seaborn as sns\n",
    "color = sns.color_palette()\n",
    "sns.set_style('darkgrid')"
   ]
  },
  {
   "cell_type": "markdown",
   "metadata": {},
   "source": [
    "We fetch all current job openings containing \"data scientist\" in their title. Here are three options of how this may happen:\n",
    "- using a web scraper script\n",
    "- using a (public/private) API based on the web scraper\n",
    "- using a relational database such as MySQL previously populated by the web scraper"
   ]
  },
  {
   "cell_type": "code",
   "execution_count": 2,
   "metadata": {},
   "outputs": [],
   "source": [
    "# Get data from https://jobs.sap.com/ using web scraper\n",
    "#from get_jobs import get_jobs\n",
    "#ds_data = get_jobs('data scientist')"
   ]
  },
  {
   "cell_type": "code",
   "execution_count": 3,
   "metadata": {},
   "outputs": [],
   "source": [
    "# Get data from RESTful API (Flask) - start webservice before running\n",
    "#import requests, json\n",
    "#ds_res = requests.get('http://localhost:5000/SAP/api/v1.0/jobs/data%20scientist')\n",
    "#ds_data = json.loads(ds_res.text)"
   ]
  },
  {
   "cell_type": "code",
   "execution_count": 4,
   "metadata": {},
   "outputs": [],
   "source": [
    "# Get data from MySQL database\n",
    "#import mysql.connector as sqldb\n",
    "#job_db = sqldb.connect(\n",
    "#    host = 'localhost',\n",
    "#    user = 'root',\n",
    "#    passwd = '',\n",
    "#    database = 'SAP_jobs'\n",
    "#)"
   ]
  },
  {
   "cell_type": "code",
   "execution_count": 5,
   "metadata": {
    "scrolled": true
   },
   "outputs": [
    {
     "data": {
      "text/html": [
       "<div>\n",
       "<style scoped>\n",
       "    .dataframe tbody tr th:only-of-type {\n",
       "        vertical-align: middle;\n",
       "    }\n",
       "\n",
       "    .dataframe tbody tr th {\n",
       "        vertical-align: top;\n",
       "    }\n",
       "\n",
       "    .dataframe thead th {\n",
       "        text-align: right;\n",
       "    }\n",
       "</style>\n",
       "<table border=\"1\" class=\"dataframe\">\n",
       "  <thead>\n",
       "    <tr style=\"text-align: right;\">\n",
       "      <th></th>\n",
       "      <th>Job Title</th>\n",
       "      <th>Date Posted</th>\n",
       "      <th>Location</th>\n",
       "      <th>Expected Travel</th>\n",
       "      <th>Career Status</th>\n",
       "      <th>Employment Type</th>\n",
       "      <th>Requirements</th>\n",
       "    </tr>\n",
       "    <tr>\n",
       "      <th>Requisition ID</th>\n",
       "      <th></th>\n",
       "      <th></th>\n",
       "      <th></th>\n",
       "      <th></th>\n",
       "      <th></th>\n",
       "      <th></th>\n",
       "      <th></th>\n",
       "    </tr>\n",
       "  </thead>\n",
       "  <tbody>\n",
       "    <tr>\n",
       "      <th>202628</th>\n",
       "      <td>Intern, Innovation Center - Engineers and Data...</td>\n",
       "      <td>2019-03-12</td>\n",
       "      <td>Irvine, CA, US</td>\n",
       "      <td>0 - 10%</td>\n",
       "      <td>Student</td>\n",
       "      <td>Intern</td>\n",
       "      <td>Major in Software/Computer Engineering/Data Sc...</td>\n",
       "    </tr>\n",
       "    <tr>\n",
       "      <th>202289</th>\n",
       "      <td>SAP IBS iXp Intern - Data Scientist Job</td>\n",
       "      <td>2019-03-08</td>\n",
       "      <td>Palo Alto, CA, US</td>\n",
       "      <td>0 - 10%</td>\n",
       "      <td>Student</td>\n",
       "      <td>Intern</td>\n",
       "      <td>SAP’s Internship Experience Project is SAP’s g...</td>\n",
       "    </tr>\n",
       "    <tr>\n",
       "      <th>203244</th>\n",
       "      <td>SAP Concur iXp intern- Customer Experience Tra...</td>\n",
       "      <td>2019-03-06</td>\n",
       "      <td>Bellevue, WA, US</td>\n",
       "      <td>0 - 10%</td>\n",
       "      <td>Student</td>\n",
       "      <td>Intern</td>\n",
       "      <td>We’re looking for someone who can challenge th...</td>\n",
       "    </tr>\n",
       "    <tr>\n",
       "      <th>210440</th>\n",
       "      <td>Senior Data Scientist - SAP Business Network Job</td>\n",
       "      <td>2019-03-06</td>\n",
       "      <td>Bellevue, WA, US</td>\n",
       "      <td>0 - 10%</td>\n",
       "      <td>Professional</td>\n",
       "      <td>Regular Full Time</td>\n",
       "      <td>The SAP Business Network Team is looking for a...</td>\n",
       "    </tr>\n",
       "    <tr>\n",
       "      <th>210651</th>\n",
       "      <td>Working Student: Data Scientist (Data Engineer...</td>\n",
       "      <td>2019-03-04</td>\n",
       "      <td>Walldorf/St. Leon-Rot, BW, DE</td>\n",
       "      <td>0 - 10%</td>\n",
       "      <td>Student</td>\n",
       "      <td>Limited Part Time</td>\n",
       "      <td>Student (f/m) at a university or university of...</td>\n",
       "    </tr>\n",
       "  </tbody>\n",
       "</table>\n",
       "</div>"
      ],
      "text/plain": [
       "                                                        Job Title Date Posted  \\\n",
       "Requisition ID                                                                  \n",
       "202628          Intern, Innovation Center - Engineers and Data...  2019-03-12   \n",
       "202289                    SAP IBS iXp Intern - Data Scientist Job  2019-03-08   \n",
       "203244          SAP Concur iXp intern- Customer Experience Tra...  2019-03-06   \n",
       "210440           Senior Data Scientist - SAP Business Network Job  2019-03-06   \n",
       "210651          Working Student: Data Scientist (Data Engineer...  2019-03-04   \n",
       "\n",
       "                                     Location Expected Travel Career Status  \\\n",
       "Requisition ID                                                                \n",
       "202628                         Irvine, CA, US         0 - 10%       Student   \n",
       "202289                      Palo Alto, CA, US         0 - 10%       Student   \n",
       "203244                       Bellevue, WA, US         0 - 10%       Student   \n",
       "210440                       Bellevue, WA, US         0 - 10%  Professional   \n",
       "210651          Walldorf/St. Leon-Rot, BW, DE         0 - 10%       Student   \n",
       "\n",
       "                  Employment Type  \\\n",
       "Requisition ID                      \n",
       "202628                     Intern   \n",
       "202289                     Intern   \n",
       "203244                     Intern   \n",
       "210440          Regular Full Time   \n",
       "210651          Limited Part Time   \n",
       "\n",
       "                                                     Requirements  \n",
       "Requisition ID                                                     \n",
       "202628          Major in Software/Computer Engineering/Data Sc...  \n",
       "202289          SAP’s Internship Experience Project is SAP’s g...  \n",
       "203244          We’re looking for someone who can challenge th...  \n",
       "210440          The SAP Business Network Team is looking for a...  \n",
       "210651          Student (f/m) at a university or university of...  "
      ]
     },
     "execution_count": 5,
     "metadata": {},
     "output_type": "execute_result"
    }
   ],
   "source": [
    "# Create DataFrame using first row as headers...\n",
    "\n",
    "# ...if loading from web scraper or API\n",
    "#ds = pd.DataFrame(ds_data[1:], columns = ds_data[0])\n",
    "\n",
    "# ...if loading from csv\n",
    "ds = pd.read_csv('data scientist.csv')\n",
    "\n",
    "# ...if loading from MySQL database\n",
    "#ds = pd.read_sql('SELECT * FROM `data_scientist@2019-03-14@17:41:50`', con = job_db)\n",
    "\n",
    "# Convert data types\n",
    "ds['Requisition ID'] = ds['Requisition ID'].apply(pd.to_numeric)\n",
    "ds['Date Posted'] = ds['Date Posted'].apply(pd.to_datetime)\n",
    "\n",
    "# Index by 'Requisition ID' and sort by 'Date Posted'\n",
    "ds.set_index('Requisition ID', inplace = True)\n",
    "ds.sort_values(by = ['Date Posted'], inplace = True, ascending = False)\n",
    "ds.head()"
   ]
  },
  {
   "cell_type": "markdown",
   "metadata": {},
   "source": [
    "Proceed to count the most common uni- and bigrams by frequency."
   ]
  },
  {
   "cell_type": "code",
   "execution_count": 6,
   "metadata": {},
   "outputs": [],
   "source": [
    "# Import NLP and other required modules\n",
    "import re, collections, nltk\n",
    "from nltk.corpus import stopwords\n",
    "from nltk.tokenize import word_tokenize\n",
    "from nltk.util import ngrams"
   ]
  },
  {
   "cell_type": "code",
   "execution_count": 7,
   "metadata": {},
   "outputs": [
    {
     "data": {
      "text/plain": [
       "'Major in Software/Computer Engineering/Data Science or related fields\\nExtraordinary programming skills (e.g. C#, C++, Objective C, JavaScript, Java and/or HTML5) and/or\\nExperience with machine learning & artificial intelligence (computer vision, NLP, data science, etc.).\\nEnjoying ambiguous challenges, fast iterations and independent thinking\\nHaving worked with various technologies during your studies but also independent of it (e.g. as an intern, as trainee, at a start-up or together with friends or just for fun), to demonstrate that you’re driven to create beautiful & valuable technology solutions.\\nSAP’s Internship Experience Project is SAP’s global, paid internship program that provides university students with the opportunities to find purpose in their careers.\\nWe’re looking for someone who can challenge the status quo and likes to stay curious. You enjoy working on meaningful projects and are energized by lifelong learning.\\nEnrolled in a degree program in Mathematics, Physics, Comp'"
      ]
     },
     "execution_count": 7,
     "metadata": {},
     "output_type": "execute_result"
    }
   ],
   "source": [
    "# Concatenate the requirements column\n",
    "ds_req = ds['Requirements'].str.cat(sep = '\\n')\n",
    "ds_req[:1000]"
   ]
  },
  {
   "cell_type": "code",
   "execution_count": 8,
   "metadata": {},
   "outputs": [],
   "source": [
    "# Function checking if a token is a stop word or number\n",
    "stop = set(stopwords.words('english'))\n",
    "def is_ok(token):\n",
    "    return re.match(r'^[a-z]+.*$', token) and token not in stop\n",
    "\n",
    "# Function using NLTK's 'tokenize' in conjunction with our word filter\n",
    "def tokenize(sent):\n",
    "    return [word for word in word_tokenize(sent.lower()) if is_ok(word)]"
   ]
  },
  {
   "cell_type": "code",
   "execution_count": 9,
   "metadata": {},
   "outputs": [],
   "source": [
    "# Tokenize the requirements text block after replacing forward slash by 'or'\n",
    "ds_tokenized = tokenize(re.sub(r'/', ' or ', ds_req))"
   ]
  },
  {
   "cell_type": "code",
   "execution_count": 10,
   "metadata": {},
   "outputs": [
    {
     "data": {
      "text/html": [
       "<div>\n",
       "<style scoped>\n",
       "    .dataframe tbody tr th:only-of-type {\n",
       "        vertical-align: middle;\n",
       "    }\n",
       "\n",
       "    .dataframe tbody tr th {\n",
       "        vertical-align: top;\n",
       "    }\n",
       "\n",
       "    .dataframe thead th {\n",
       "        text-align: right;\n",
       "    }\n",
       "</style>\n",
       "<table border=\"1\" class=\"dataframe\">\n",
       "  <thead>\n",
       "    <tr style=\"text-align: right;\">\n",
       "      <th></th>\n",
       "      <th>Frequency</th>\n",
       "    </tr>\n",
       "  </thead>\n",
       "  <tbody>\n",
       "    <tr>\n",
       "      <th>experience</th>\n",
       "      <td>33</td>\n",
       "    </tr>\n",
       "    <tr>\n",
       "      <th>data</th>\n",
       "      <td>25</td>\n",
       "    </tr>\n",
       "    <tr>\n",
       "      <th>science</th>\n",
       "      <td>16</td>\n",
       "    </tr>\n",
       "    <tr>\n",
       "      <th>knowledge</th>\n",
       "      <td>15</td>\n",
       "    </tr>\n",
       "    <tr>\n",
       "      <th>learning</th>\n",
       "      <td>15</td>\n",
       "    </tr>\n",
       "    <tr>\n",
       "      <th>working</th>\n",
       "      <td>14</td>\n",
       "    </tr>\n",
       "    <tr>\n",
       "      <th>sap</th>\n",
       "      <td>12</td>\n",
       "    </tr>\n",
       "    <tr>\n",
       "      <th>skills</th>\n",
       "      <td>11</td>\n",
       "    </tr>\n",
       "    <tr>\n",
       "      <th>strong</th>\n",
       "      <td>10</td>\n",
       "    </tr>\n",
       "    <tr>\n",
       "      <th>business</th>\n",
       "      <td>10</td>\n",
       "    </tr>\n",
       "    <tr>\n",
       "      <th>python</th>\n",
       "      <td>9</td>\n",
       "    </tr>\n",
       "    <tr>\n",
       "      <th>r</th>\n",
       "      <td>8</td>\n",
       "    </tr>\n",
       "    <tr>\n",
       "      <th>degree</th>\n",
       "      <td>8</td>\n",
       "    </tr>\n",
       "    <tr>\n",
       "      <th>machine</th>\n",
       "      <td>8</td>\n",
       "    </tr>\n",
       "    <tr>\n",
       "      <th>language</th>\n",
       "      <td>8</td>\n",
       "    </tr>\n",
       "    <tr>\n",
       "      <th>computer</th>\n",
       "      <td>8</td>\n",
       "    </tr>\n",
       "    <tr>\n",
       "      <th>software</th>\n",
       "      <td>7</td>\n",
       "    </tr>\n",
       "    <tr>\n",
       "      <th>sql</th>\n",
       "      <td>7</td>\n",
       "    </tr>\n",
       "    <tr>\n",
       "      <th>statistics</th>\n",
       "      <td>7</td>\n",
       "    </tr>\n",
       "    <tr>\n",
       "      <th>development</th>\n",
       "      <td>6</td>\n",
       "    </tr>\n",
       "    <tr>\n",
       "      <th>mathematics</th>\n",
       "      <td>6</td>\n",
       "    </tr>\n",
       "  </tbody>\n",
       "</table>\n",
       "</div>"
      ],
      "text/plain": [
       "             Frequency\n",
       "experience          33\n",
       "data                25\n",
       "science             16\n",
       "knowledge           15\n",
       "learning            15\n",
       "working             14\n",
       "sap                 12\n",
       "skills              11\n",
       "strong              10\n",
       "business            10\n",
       "python               9\n",
       "r                    8\n",
       "degree               8\n",
       "machine              8\n",
       "language             8\n",
       "computer             8\n",
       "software             7\n",
       "sql                  7\n",
       "statistics           7\n",
       "development          6\n",
       "mathematics          6"
      ]
     },
     "execution_count": 10,
     "metadata": {},
     "output_type": "execute_result"
    }
   ],
   "source": [
    "# Count and display most common unigrams\n",
    "ds_unigrams_freq = collections.Counter(ds_tokenized)\n",
    "ds_unigrams_freq_table = pd.DataFrame.from_dict(ds_unigrams_freq, orient = 'index', \\\n",
    "                columns = ['Frequency']).sort_values(by = ['Frequency'], ascending = False)\n",
    "ds_unigrams_freq_table.head(21)"
   ]
  },
  {
   "cell_type": "markdown",
   "metadata": {},
   "source": [
    "From this we see that, among the technical skills required, **Python**, **R,** and **SQL**—in this order—are the most common. The ideal candidate should also have a **degree** in **statistics** or **mathematics**."
   ]
  },
  {
   "cell_type": "code",
   "execution_count": 11,
   "metadata": {},
   "outputs": [],
   "source": [
    "ds_bigrams = ngrams(ds_tokenized, 2)\n",
    "ds_bigrams_freq = collections.Counter(ds_bigrams)\n",
    "ds_bigrams_freq_table = pd.DataFrame.from_dict(ds_bigrams_freq, orient = 'index', \\\n",
    "                columns = ['Frequency']).sort_values(by = ['Frequency'], ascending = False)"
   ]
  },
  {
   "cell_type": "markdown",
   "metadata": {},
   "source": [
    "Before proceeding, let us filter for bigrams only of the form (Noun, Noun) or (Adjective, Noun)."
   ]
  },
  {
   "cell_type": "code",
   "execution_count": 12,
   "metadata": {},
   "outputs": [],
   "source": [
    "# Function to filter for bigrams of the form (Noun, Noun) or (Adjective, Noun)\n",
    "def rightTypes(ngram):\n",
    "    acceptable_types = ('JJ', 'JJR', 'JJS', 'NN', 'NNS', 'NNP', 'NNPS')\n",
    "    second_type = ('NN', 'NNS', 'NNP', 'NNPS')\n",
    "    tags = nltk.pos_tag(ngram)\n",
    "    if tags[0][1] in acceptable_types and tags[1][1] in second_type:\n",
    "        return True\n",
    "    else:\n",
    "        return False"
   ]
  },
  {
   "cell_type": "code",
   "execution_count": 13,
   "metadata": {},
   "outputs": [
    {
     "data": {
      "text/html": [
       "<div>\n",
       "<style scoped>\n",
       "    .dataframe tbody tr th:only-of-type {\n",
       "        vertical-align: middle;\n",
       "    }\n",
       "\n",
       "    .dataframe tbody tr th {\n",
       "        vertical-align: top;\n",
       "    }\n",
       "\n",
       "    .dataframe thead th {\n",
       "        text-align: right;\n",
       "    }\n",
       "</style>\n",
       "<table border=\"1\" class=\"dataframe\">\n",
       "  <thead>\n",
       "    <tr style=\"text-align: right;\">\n",
       "      <th></th>\n",
       "      <th>Frequency</th>\n",
       "    </tr>\n",
       "  </thead>\n",
       "  <tbody>\n",
       "    <tr>\n",
       "      <th>(data, science)</th>\n",
       "      <td>10</td>\n",
       "    </tr>\n",
       "    <tr>\n",
       "      <th>(machine, learning)</th>\n",
       "      <td>8</td>\n",
       "    </tr>\n",
       "    <tr>\n",
       "      <th>(computer, science)</th>\n",
       "      <td>6</td>\n",
       "    </tr>\n",
       "    <tr>\n",
       "      <th>(someone, challenge)</th>\n",
       "      <td>4</td>\n",
       "    </tr>\n",
       "    <tr>\n",
       "      <th>(meaningful, projects)</th>\n",
       "      <td>4</td>\n",
       "    </tr>\n",
       "    <tr>\n",
       "      <th>(curious, enjoy)</th>\n",
       "      <td>4</td>\n",
       "    </tr>\n",
       "    <tr>\n",
       "      <th>(quo, likes)</th>\n",
       "      <td>4</td>\n",
       "    </tr>\n",
       "    <tr>\n",
       "      <th>(status, quo)</th>\n",
       "      <td>4</td>\n",
       "    </tr>\n",
       "    <tr>\n",
       "      <th>(challenge, status)</th>\n",
       "      <td>4</td>\n",
       "    </tr>\n",
       "    <tr>\n",
       "      <th>(degree, program)</th>\n",
       "      <td>4</td>\n",
       "    </tr>\n",
       "    <tr>\n",
       "      <th>(science, data)</th>\n",
       "      <td>4</td>\n",
       "    </tr>\n",
       "    <tr>\n",
       "      <th>(work, experience)</th>\n",
       "      <td>3</td>\n",
       "    </tr>\n",
       "    <tr>\n",
       "      <th>(python, r)</th>\n",
       "      <td>3</td>\n",
       "    </tr>\n",
       "    <tr>\n",
       "      <th>(strong, communication)</th>\n",
       "      <td>3</td>\n",
       "    </tr>\n",
       "    <tr>\n",
       "      <th>(communication, skills)</th>\n",
       "      <td>3</td>\n",
       "    </tr>\n",
       "    <tr>\n",
       "      <th>(applicable, position)</th>\n",
       "      <td>3</td>\n",
       "    </tr>\n",
       "    <tr>\n",
       "      <th>(master, degree)</th>\n",
       "      <td>3</td>\n",
       "    </tr>\n",
       "    <tr>\n",
       "      <th>(business, problems)</th>\n",
       "      <td>3</td>\n",
       "    </tr>\n",
       "    <tr>\n",
       "      <th>(asset, fluency)</th>\n",
       "      <td>2</td>\n",
       "    </tr>\n",
       "    <tr>\n",
       "      <th>(experience, data)</th>\n",
       "      <td>2</td>\n",
       "    </tr>\n",
       "  </tbody>\n",
       "</table>\n",
       "</div>"
      ],
      "text/plain": [
       "                         Frequency\n",
       "(data, science)                 10\n",
       "(machine, learning)              8\n",
       "(computer, science)              6\n",
       "(someone, challenge)             4\n",
       "(meaningful, projects)           4\n",
       "(curious, enjoy)                 4\n",
       "(quo, likes)                     4\n",
       "(status, quo)                    4\n",
       "(challenge, status)              4\n",
       "(degree, program)                4\n",
       "(science, data)                  4\n",
       "(work, experience)               3\n",
       "(python, r)                      3\n",
       "(strong, communication)          3\n",
       "(communication, skills)          3\n",
       "(applicable, position)           3\n",
       "(master, degree)                 3\n",
       "(business, problems)             3\n",
       "(asset, fluency)                 2\n",
       "(experience, data)               2"
      ]
     },
     "execution_count": 13,
     "metadata": {},
     "output_type": "execute_result"
    }
   ],
   "source": [
    "ds_bigrams_filtered = ds_bigrams_freq_table[ds_bigrams_freq_table.index.map(lambda x: \\\n",
    "                                                                            rightTypes(x))]\n",
    "ds_freq_top = ds_bigrams_filtered.head(20).index.values\n",
    "ds_bigrams_filtered.head(20)"
   ]
  },
  {
   "cell_type": "markdown",
   "metadata": {},
   "source": [
    "From this, we further deduce that the ideal candidate possesses knowledge of **machine learning**, has strong **communication skills**, a **master's degree** in **computer science**, and **work experience**."
   ]
  },
  {
   "cell_type": "markdown",
   "metadata": {},
   "source": [
    "To glean further information, we employ some metrics other than frequency."
   ]
  },
  {
   "cell_type": "markdown",
   "metadata": {},
   "source": [
    "<a id='PMI'></a>\n",
    "### 1.2 Analysis by pointwise mutual information (PMI) and hypothesis testing"
   ]
  },
  {
   "cell_type": "markdown",
   "metadata": {},
   "source": [
    "We define three metrics and display and discuss the results at the end."
   ]
  },
  {
   "cell_type": "markdown",
   "metadata": {},
   "source": [
    "### a. PMI"
   ]
  },
  {
   "cell_type": "markdown",
   "metadata": {},
   "source": [
    "The *pointwise mutual information (PMI) score* measures how much more likely the words co-occur than if they were independent."
   ]
  },
  {
   "cell_type": "code",
   "execution_count": 14,
   "metadata": {},
   "outputs": [],
   "source": [
    "bigrams = nltk.collocations.BigramAssocMeasures()\n",
    "bigram_finder = nltk.collocations.BigramCollocationFinder.from_words(ds_tokenized)\n",
    "\n",
    "# Define PMI table\n",
    "ds_bigrams_PMI_table = pd.DataFrame(bigram_finder.score_ngrams(bigrams.pmi), \\\n",
    "            columns = ['', 'PMI']).set_index('').sort_values(by = 'PMI', ascending = False)\n",
    "\n",
    "# Collect top 20 results\n",
    "ds_pmi_top = ds_bigrams_PMI_table.head(20).index.values"
   ]
  },
  {
   "cell_type": "markdown",
   "metadata": {},
   "source": [
    "### b. t-test"
   ]
  },
  {
   "cell_type": "markdown",
   "metadata": {},
   "source": [
    "The *t-test* compares by how much a sample beats the null hypothesis of the experiment. In our case, the null hypothesis is that the two words making up a bigram are independent and do not occur in conjunction with more than the expected value of two random independent variables."
   ]
  },
  {
   "cell_type": "code",
   "execution_count": 15,
   "metadata": {},
   "outputs": [],
   "source": [
    "# Define t-test table\n",
    "ds_bigrams_t_table = pd.DataFrame(bigram_finder.score_ngrams(bigrams.student_t), \\\n",
    "                columns = ['', 't']).set_index('').sort_values(by = 't', ascending = False)\n",
    "\n",
    "# Collect top 20 results\n",
    "ds_t_top = ds_bigrams_t_table.head(20).index.values"
   ]
  },
  {
   "cell_type": "markdown",
   "metadata": {},
   "source": [
    "### c. chi-square test"
   ]
  },
  {
   "cell_type": "markdown",
   "metadata": {},
   "source": [
    "The *t-test* assumes a normal distribution for the data. If this is not the case, it may be better to use the *chi-square test*."
   ]
  },
  {
   "cell_type": "code",
   "execution_count": 16,
   "metadata": {},
   "outputs": [],
   "source": [
    "# Define chi-square-test table\n",
    "ds_bigrams_chi_table = pd.DataFrame(bigram_finder.score_ngrams(bigrams.chi_sq), \\\n",
    "    columns = ['', 'chi-sq']).set_index('').sort_values(by = 'chi-sq', ascending = False)\n",
    "\n",
    "# Collect top 20 results\n",
    "ds_chi_top = ds_bigrams_chi_table.head(20).index.values"
   ]
  },
  {
   "cell_type": "markdown",
   "metadata": {},
   "source": [
    "### d. Results"
   ]
  },
  {
   "cell_type": "code",
   "execution_count": 17,
   "metadata": {},
   "outputs": [
    {
     "data": {
      "text/html": [
       "<div>\n",
       "<style scoped>\n",
       "    .dataframe tbody tr th:only-of-type {\n",
       "        vertical-align: middle;\n",
       "    }\n",
       "\n",
       "    .dataframe tbody tr th {\n",
       "        vertical-align: top;\n",
       "    }\n",
       "\n",
       "    .dataframe thead th {\n",
       "        text-align: right;\n",
       "    }\n",
       "</style>\n",
       "<table border=\"1\" class=\"dataframe\">\n",
       "  <thead>\n",
       "    <tr style=\"text-align: right;\">\n",
       "      <th></th>\n",
       "      <th>frequency</th>\n",
       "      <th>PMI</th>\n",
       "      <th>t-test</th>\n",
       "      <th>chi-sq test</th>\n",
       "    </tr>\n",
       "  </thead>\n",
       "  <tbody>\n",
       "    <tr>\n",
       "      <th>1</th>\n",
       "      <td>(data, science)</td>\n",
       "      <td>(able, proactively)</td>\n",
       "      <td>(data, science)</td>\n",
       "      <td>(able, proactively)</td>\n",
       "    </tr>\n",
       "    <tr>\n",
       "      <th>2</th>\n",
       "      <td>(machine, learning)</td>\n",
       "      <td>(multi-tasking, managing)</td>\n",
       "      <td>(machine, learning)</td>\n",
       "      <td>(non-scientific, audiences)</td>\n",
       "    </tr>\n",
       "    <tr>\n",
       "      <th>3</th>\n",
       "      <td>(computer, science)</td>\n",
       "      <td>(relationships, key)</td>\n",
       "      <td>(computer, science)</td>\n",
       "      <td>(professionals, ideally)</td>\n",
       "    </tr>\n",
       "    <tr>\n",
       "      <th>4</th>\n",
       "      <td>(someone, challenge)</td>\n",
       "      <td>(regular, basis)</td>\n",
       "      <td>(experience, working)</td>\n",
       "      <td>(prototypes, web)</td>\n",
       "    </tr>\n",
       "    <tr>\n",
       "      <th>5</th>\n",
       "      <td>(meaningful, projects)</td>\n",
       "      <td>(regression, classification)</td>\n",
       "      <td>(challenge, status)</td>\n",
       "      <td>(publications, patent)</td>\n",
       "    </tr>\n",
       "    <tr>\n",
       "      <th>6</th>\n",
       "      <td>(curious, enjoy)</td>\n",
       "      <td>(records, publications)</td>\n",
       "      <td>(energized, lifelong)</td>\n",
       "      <td>(purpose, careers)</td>\n",
       "    </tr>\n",
       "    <tr>\n",
       "      <th>7</th>\n",
       "      <td>(quo, likes)</td>\n",
       "      <td>(purpose, careers)</td>\n",
       "      <td>(likes, stay)</td>\n",
       "      <td>(quo, likes)</td>\n",
       "    </tr>\n",
       "    <tr>\n",
       "      <th>8</th>\n",
       "      <td>(status, quo)</td>\n",
       "      <td>(publications, patent)</td>\n",
       "      <td>(quo, likes)</td>\n",
       "      <td>(range, people)</td>\n",
       "    </tr>\n",
       "    <tr>\n",
       "      <th>9</th>\n",
       "      <td>(challenge, status)</td>\n",
       "      <td>(prototypes, web)</td>\n",
       "      <td>(status, quo)</td>\n",
       "      <td>(record, success)</td>\n",
       "    </tr>\n",
       "    <tr>\n",
       "      <th>10</th>\n",
       "      <td>(degree, program)</td>\n",
       "      <td>(professionals, ideally)</td>\n",
       "      <td>(stay, curious)</td>\n",
       "      <td>(records, publications)</td>\n",
       "    </tr>\n",
       "    <tr>\n",
       "      <th>11</th>\n",
       "      <td>(science, data)</td>\n",
       "      <td>(production, environments)</td>\n",
       "      <td>(someone, challenge)</td>\n",
       "      <td>(regular, basis)</td>\n",
       "    </tr>\n",
       "    <tr>\n",
       "      <th>12</th>\n",
       "      <td>(work, experience)</td>\n",
       "      <td>(problem, solver)</td>\n",
       "      <td>(meaningful, projects)</td>\n",
       "      <td>(relationships, key)</td>\n",
       "    </tr>\n",
       "    <tr>\n",
       "      <th>13</th>\n",
       "      <td>(python, r)</td>\n",
       "      <td>(proactively, reach)</td>\n",
       "      <td>(curious, enjoy)</td>\n",
       "      <td>(research, preferable)</td>\n",
       "    </tr>\n",
       "    <tr>\n",
       "      <th>14</th>\n",
       "      <td>(strong, communication)</td>\n",
       "      <td>(preferably, linux)</td>\n",
       "      <td>(projects, energized)</td>\n",
       "      <td>(resourcefulness, especially)</td>\n",
       "    </tr>\n",
       "    <tr>\n",
       "      <th>15</th>\n",
       "      <td>(communication, skills)</td>\n",
       "      <td>(pre-processing, feature)</td>\n",
       "      <td>(looking, someone)</td>\n",
       "      <td>(responsible, accountable)</td>\n",
       "    </tr>\n",
       "    <tr>\n",
       "      <th>16</th>\n",
       "      <td>(applicable, position)</td>\n",
       "      <td>(positive, mindset)</td>\n",
       "      <td>(degree, program)</td>\n",
       "      <td>(resulting, pipeline)</td>\n",
       "    </tr>\n",
       "    <tr>\n",
       "      <th>17</th>\n",
       "      <td>(master, degree)</td>\n",
       "      <td>(player, humble)</td>\n",
       "      <td>(enjoy, working)</td>\n",
       "      <td>(revenue, growth)</td>\n",
       "    </tr>\n",
       "    <tr>\n",
       "      <th>18</th>\n",
       "      <td>(business, problems)</td>\n",
       "      <td>(patent, filing)</td>\n",
       "      <td>(working, meaningful)</td>\n",
       "      <td>(production, environments)</td>\n",
       "    </tr>\n",
       "    <tr>\n",
       "      <th>19</th>\n",
       "      <td>(asset, fluency)</td>\n",
       "      <td>(passionate, improving)</td>\n",
       "      <td>(lifelong, learning)</td>\n",
       "      <td>(problem, solver)</td>\n",
       "    </tr>\n",
       "    <tr>\n",
       "      <th>20</th>\n",
       "      <td>(experience, data)</td>\n",
       "      <td>(party, apis)</td>\n",
       "      <td>(science, data)</td>\n",
       "      <td>(proactively, reach)</td>\n",
       "    </tr>\n",
       "  </tbody>\n",
       "</table>\n",
       "</div>"
      ],
      "text/plain": [
       "                  frequency                           PMI  \\\n",
       "1           (data, science)           (able, proactively)   \n",
       "2       (machine, learning)     (multi-tasking, managing)   \n",
       "3       (computer, science)          (relationships, key)   \n",
       "4      (someone, challenge)              (regular, basis)   \n",
       "5    (meaningful, projects)  (regression, classification)   \n",
       "6          (curious, enjoy)       (records, publications)   \n",
       "7              (quo, likes)            (purpose, careers)   \n",
       "8             (status, quo)        (publications, patent)   \n",
       "9       (challenge, status)             (prototypes, web)   \n",
       "10        (degree, program)      (professionals, ideally)   \n",
       "11          (science, data)    (production, environments)   \n",
       "12       (work, experience)             (problem, solver)   \n",
       "13              (python, r)          (proactively, reach)   \n",
       "14  (strong, communication)           (preferably, linux)   \n",
       "15  (communication, skills)     (pre-processing, feature)   \n",
       "16   (applicable, position)           (positive, mindset)   \n",
       "17         (master, degree)              (player, humble)   \n",
       "18     (business, problems)              (patent, filing)   \n",
       "19         (asset, fluency)       (passionate, improving)   \n",
       "20       (experience, data)                 (party, apis)   \n",
       "\n",
       "                    t-test                    chi-sq test  \n",
       "1          (data, science)            (able, proactively)  \n",
       "2      (machine, learning)    (non-scientific, audiences)  \n",
       "3      (computer, science)       (professionals, ideally)  \n",
       "4    (experience, working)              (prototypes, web)  \n",
       "5      (challenge, status)         (publications, patent)  \n",
       "6    (energized, lifelong)             (purpose, careers)  \n",
       "7            (likes, stay)                   (quo, likes)  \n",
       "8             (quo, likes)                (range, people)  \n",
       "9            (status, quo)              (record, success)  \n",
       "10         (stay, curious)        (records, publications)  \n",
       "11    (someone, challenge)               (regular, basis)  \n",
       "12  (meaningful, projects)           (relationships, key)  \n",
       "13        (curious, enjoy)         (research, preferable)  \n",
       "14   (projects, energized)  (resourcefulness, especially)  \n",
       "15      (looking, someone)     (responsible, accountable)  \n",
       "16       (degree, program)          (resulting, pipeline)  \n",
       "17        (enjoy, working)              (revenue, growth)  \n",
       "18   (working, meaningful)     (production, environments)  \n",
       "19    (lifelong, learning)              (problem, solver)  \n",
       "20         (science, data)           (proactively, reach)  "
      ]
     },
     "execution_count": 17,
     "metadata": {},
     "output_type": "execute_result"
    }
   ],
   "source": [
    "ds_bigrams_compare = pd.DataFrame([ds_freq_top, ds_pmi_top, ds_t_top, ds_chi_top]).T\n",
    "ds_bigrams_compare.columns = ['frequency', 'PMI', 't-test', 'chi-sq test']\n",
    "ds_bigrams_compare.index += 1\n",
    "ds_bigrams_compare"
   ]
  },
  {
   "cell_type": "markdown",
   "metadata": {},
   "source": [
    "The first thing to notice is that the pairs frequency and t-test and PMI and chi-sq test give similar results. The latter pair is particularly suited for finding valuable soft and character skills of the ideal applicant."
   ]
  },
  {
   "cell_type": "markdown",
   "metadata": {},
   "source": [
    "<a id='predictor'></a>\n",
    "## 2. Building a job title predictor"
   ]
  },
  {
   "cell_type": "markdown",
   "metadata": {},
   "source": [
    "<a id='moredata'></a>\n",
    "### 2.1 Obtaining more data"
   ]
  },
  {
   "cell_type": "markdown",
   "metadata": {},
   "source": [
    "We begin by getting data for a second job: Java developer. The goal of the model will be to assign to a given set of job requirements a job title label."
   ]
  },
  {
   "cell_type": "code",
   "execution_count": 18,
   "metadata": {},
   "outputs": [],
   "source": [
    "# Get data from https://jobs.sap.com/ using web scraper\n",
    "#from get_jobs import get_jobs\n",
    "#jd_data = get_jobs('java developer')"
   ]
  },
  {
   "cell_type": "code",
   "execution_count": 19,
   "metadata": {},
   "outputs": [],
   "source": [
    "# Get data from RESTful API (Flask) - start webservice before running\n",
    "#import requests, json\n",
    "#jd_res = requests.get('http://localhost:5000/SAP/api/v1.0/jobs/java%20developer')\n",
    "#jd_data = json.loads(jd_res.text)"
   ]
  },
  {
   "cell_type": "code",
   "execution_count": 20,
   "metadata": {},
   "outputs": [
    {
     "data": {
      "text/html": [
       "<div>\n",
       "<style scoped>\n",
       "    .dataframe tbody tr th:only-of-type {\n",
       "        vertical-align: middle;\n",
       "    }\n",
       "\n",
       "    .dataframe tbody tr th {\n",
       "        vertical-align: top;\n",
       "    }\n",
       "\n",
       "    .dataframe thead th {\n",
       "        text-align: right;\n",
       "    }\n",
       "</style>\n",
       "<table border=\"1\" class=\"dataframe\">\n",
       "  <thead>\n",
       "    <tr style=\"text-align: right;\">\n",
       "      <th></th>\n",
       "      <th>Job Title</th>\n",
       "      <th>Date Posted</th>\n",
       "      <th>Location</th>\n",
       "      <th>Expected Travel</th>\n",
       "      <th>Career Status</th>\n",
       "      <th>Employment Type</th>\n",
       "      <th>Requirements</th>\n",
       "    </tr>\n",
       "    <tr>\n",
       "      <th>Requisition ID</th>\n",
       "      <th></th>\n",
       "      <th></th>\n",
       "      <th></th>\n",
       "      <th></th>\n",
       "      <th></th>\n",
       "      <th></th>\n",
       "      <th></th>\n",
       "    </tr>\n",
       "  </thead>\n",
       "  <tbody>\n",
       "    <tr>\n",
       "      <th>211777</th>\n",
       "      <td>Java Developer Associate Job</td>\n",
       "      <td>2019-03-13</td>\n",
       "      <td>Shanghai, 31, CN</td>\n",
       "      <td>0 - 10%</td>\n",
       "      <td>Professional</td>\n",
       "      <td>Regular Full Time</td>\n",
       "      <td>We’re looking for you, a motivated and talente...</td>\n",
       "    </tr>\n",
       "    <tr>\n",
       "      <th>211778</th>\n",
       "      <td>Java Developer- EWM Job</td>\n",
       "      <td>2019-03-08</td>\n",
       "      <td>Shanghai, 31, CN</td>\n",
       "      <td>0 - 10%</td>\n",
       "      <td>Professional</td>\n",
       "      <td>Regular Full Time</td>\n",
       "      <td>We’re looking for you, a motivated and talente...</td>\n",
       "    </tr>\n",
       "    <tr>\n",
       "      <th>211781</th>\n",
       "      <td>Senior Java Developer- EWM Job</td>\n",
       "      <td>2019-03-08</td>\n",
       "      <td>Shanghai, 31, CN</td>\n",
       "      <td>0 - 10%</td>\n",
       "      <td>Professional</td>\n",
       "      <td>Regular Full Time</td>\n",
       "      <td>We’re looking for you, a motivated and talente...</td>\n",
       "    </tr>\n",
       "    <tr>\n",
       "      <th>211391</th>\n",
       "      <td>Senior Java Developer - Security Engineering -...</td>\n",
       "      <td>2019-03-08</td>\n",
       "      <td>Bangalore, KA, IN</td>\n",
       "      <td>0 - 10%</td>\n",
       "      <td>Professional</td>\n",
       "      <td>Regular Full Time</td>\n",
       "      <td>Bachelor’s degree in Computer Science, Enginee...</td>\n",
       "    </tr>\n",
       "    <tr>\n",
       "      <th>207267</th>\n",
       "      <td>Senior Java Developer Job</td>\n",
       "      <td>2019-03-07</td>\n",
       "      <td>Dublin, CA, US</td>\n",
       "      <td>0 - 10%</td>\n",
       "      <td>Professional</td>\n",
       "      <td>Regular Full Time</td>\n",
       "      <td>Qualifications\\nBS/MS degree in Computer Scien...</td>\n",
       "    </tr>\n",
       "  </tbody>\n",
       "</table>\n",
       "</div>"
      ],
      "text/plain": [
       "                                                        Job Title Date Posted  \\\n",
       "Requisition ID                                                                  \n",
       "211777                               Java Developer Associate Job  2019-03-13   \n",
       "211778                                    Java Developer- EWM Job  2019-03-08   \n",
       "211781                             Senior Java Developer- EWM Job  2019-03-08   \n",
       "211391          Senior Java Developer - Security Engineering -...  2019-03-08   \n",
       "207267                                  Senior Java Developer Job  2019-03-07   \n",
       "\n",
       "                         Location Expected Travel Career Status  \\\n",
       "Requisition ID                                                    \n",
       "211777           Shanghai, 31, CN         0 - 10%  Professional   \n",
       "211778           Shanghai, 31, CN         0 - 10%  Professional   \n",
       "211781           Shanghai, 31, CN         0 - 10%  Professional   \n",
       "211391          Bangalore, KA, IN         0 - 10%  Professional   \n",
       "207267             Dublin, CA, US         0 - 10%  Professional   \n",
       "\n",
       "                  Employment Type  \\\n",
       "Requisition ID                      \n",
       "211777          Regular Full Time   \n",
       "211778          Regular Full Time   \n",
       "211781          Regular Full Time   \n",
       "211391          Regular Full Time   \n",
       "207267          Regular Full Time   \n",
       "\n",
       "                                                     Requirements  \n",
       "Requisition ID                                                     \n",
       "211777          We’re looking for you, a motivated and talente...  \n",
       "211778          We’re looking for you, a motivated and talente...  \n",
       "211781          We’re looking for you, a motivated and talente...  \n",
       "211391          Bachelor’s degree in Computer Science, Enginee...  \n",
       "207267          Qualifications\\nBS/MS degree in Computer Scien...  "
      ]
     },
     "execution_count": 20,
     "metadata": {},
     "output_type": "execute_result"
    }
   ],
   "source": [
    "# Create DataFrame using first row as headers\n",
    "#jd = pd.DataFrame(jd_data[1:], columns = jd_data[0]) # if loading from web scraper or API\n",
    "jd = pd.read_csv('java developer.csv') # if loading from csv\n",
    "\n",
    "# Convert data types\n",
    "jd['Requisition ID'] = jd['Requisition ID'].apply(pd.to_numeric)\n",
    "jd['Date Posted'] = jd['Date Posted'].apply(pd.to_datetime)\n",
    "\n",
    "# Index by 'Requisition ID' and sort by 'Date Posted'\n",
    "jd.set_index('Requisition ID', inplace = True)\n",
    "jd.sort_values(by = ['Date Posted'], inplace = True, ascending = False)\n",
    "jd.head()"
   ]
  },
  {
   "cell_type": "markdown",
   "metadata": {},
   "source": [
    "<a id='labels'></a>\n",
    "### 2.2 Label encoding"
   ]
  },
  {
   "cell_type": "markdown",
   "metadata": {},
   "source": [
    "To apply machine learning, we have to transform the requirements and job titles into a vector representation. Turning the job titles into a vector is the easy part:\n",
    "\n",
    "**0 = Data Scientist**\n",
    "\n",
    "**1 = Java Developer**\n",
    "\n",
    "In the case of more than two classes, use scikit-learn's label encoder.\n",
    "\n",
    "We then drop all the unneeded columns and concatenate the two job tables:"
   ]
  },
  {
   "cell_type": "code",
   "execution_count": 21,
   "metadata": {},
   "outputs": [],
   "source": [
    "# Data from data scientists\n",
    "dx = ds.reset_index()[['Job Title', 'Requirements']]\n",
    "dx['job_id'] = 0\n",
    "\n",
    "# Data from java developers\n",
    "jx = jd.reset_index()[['Job Title', 'Requirements']]\n",
    "jx['job_id'] = 1\n",
    "\n",
    "# Combine data and do some preprocessing\n",
    "dfx = pd.concat([dx, jx]).reset_index(drop = True)\n",
    "dfx['Requirements'] = dfx['Requirements'].apply(lambda x: re.sub(r'/', ' or ', x))"
   ]
  },
  {
   "cell_type": "code",
   "execution_count": 22,
   "metadata": {},
   "outputs": [
    {
     "data": {
      "text/html": [
       "<div>\n",
       "<style scoped>\n",
       "    .dataframe tbody tr th:only-of-type {\n",
       "        vertical-align: middle;\n",
       "    }\n",
       "\n",
       "    .dataframe tbody tr th {\n",
       "        vertical-align: top;\n",
       "    }\n",
       "\n",
       "    .dataframe thead th {\n",
       "        text-align: right;\n",
       "    }\n",
       "</style>\n",
       "<table border=\"1\" class=\"dataframe\">\n",
       "  <thead>\n",
       "    <tr style=\"text-align: right;\">\n",
       "      <th></th>\n",
       "      <th>Job Title</th>\n",
       "      <th>Requirements</th>\n",
       "      <th>job_id</th>\n",
       "    </tr>\n",
       "  </thead>\n",
       "  <tbody>\n",
       "    <tr>\n",
       "      <th>0</th>\n",
       "      <td>Intern, Innovation Center - Engineers and Data...</td>\n",
       "      <td>Major in Software or Computer Engineering or D...</td>\n",
       "      <td>0</td>\n",
       "    </tr>\n",
       "    <tr>\n",
       "      <th>1</th>\n",
       "      <td>SAP IBS iXp Intern - Data Scientist Job</td>\n",
       "      <td>SAP’s Internship Experience Project is SAP’s g...</td>\n",
       "      <td>0</td>\n",
       "    </tr>\n",
       "    <tr>\n",
       "      <th>2</th>\n",
       "      <td>SAP Concur iXp intern- Customer Experience Tra...</td>\n",
       "      <td>We’re looking for someone who can challenge th...</td>\n",
       "      <td>0</td>\n",
       "    </tr>\n",
       "    <tr>\n",
       "      <th>3</th>\n",
       "      <td>Senior Data Scientist - SAP Business Network Job</td>\n",
       "      <td>The SAP Business Network Team is looking for a...</td>\n",
       "      <td>0</td>\n",
       "    </tr>\n",
       "    <tr>\n",
       "      <th>4</th>\n",
       "      <td>Working Student: Data Scientist (Data Engineer...</td>\n",
       "      <td>Student (f or m) at a university or university...</td>\n",
       "      <td>0</td>\n",
       "    </tr>\n",
       "    <tr>\n",
       "      <th>5</th>\n",
       "      <td>SAP Concur iXp Intern- Data Scientist Job</td>\n",
       "      <td>We’re looking for someone who can challenge th...</td>\n",
       "      <td>0</td>\n",
       "    </tr>\n",
       "    <tr>\n",
       "      <th>6</th>\n",
       "      <td>Data Scientist Advisor Job</td>\n",
       "      <td>Prior experience with software or IT organizat...</td>\n",
       "      <td>0</td>\n",
       "    </tr>\n",
       "    <tr>\n",
       "      <th>7</th>\n",
       "      <td>SAP Fieldglass iXp Intern- Data Scientist Job</td>\n",
       "      <td>We’re looking for someone who can challenge th...</td>\n",
       "      <td>0</td>\n",
       "    </tr>\n",
       "    <tr>\n",
       "      <th>8</th>\n",
       "      <td>Data Scientist Job</td>\n",
       "      <td>Masters degree in data science, analytics, sta...</td>\n",
       "      <td>0</td>\n",
       "    </tr>\n",
       "    <tr>\n",
       "      <th>9</th>\n",
       "      <td>Data Scientist - F/M Job</td>\n",
       "      <td>Strong knowledge in one more multiple of the f...</td>\n",
       "      <td>0</td>\n",
       "    </tr>\n",
       "    <tr>\n",
       "      <th>10</th>\n",
       "      <td>IBSO Data Scientist Job</td>\n",
       "      <td>BS or MS in Statistics, Mathematics, Computer ...</td>\n",
       "      <td>0</td>\n",
       "    </tr>\n",
       "    <tr>\n",
       "      <th>11</th>\n",
       "      <td>SAP Leonardo Machine Learning Consultant / Dat...</td>\n",
       "      <td>For the Machine Learning  or  Data Scientist p...</td>\n",
       "      <td>0</td>\n",
       "    </tr>\n",
       "    <tr>\n",
       "      <th>12</th>\n",
       "      <td>Java Developer Associate Job</td>\n",
       "      <td>We’re looking for you, a motivated and talente...</td>\n",
       "      <td>1</td>\n",
       "    </tr>\n",
       "    <tr>\n",
       "      <th>13</th>\n",
       "      <td>Java Developer- EWM Job</td>\n",
       "      <td>We’re looking for you, a motivated and talente...</td>\n",
       "      <td>1</td>\n",
       "    </tr>\n",
       "    <tr>\n",
       "      <th>14</th>\n",
       "      <td>Senior Java Developer- EWM Job</td>\n",
       "      <td>We’re looking for you, a motivated and talente...</td>\n",
       "      <td>1</td>\n",
       "    </tr>\n",
       "    <tr>\n",
       "      <th>15</th>\n",
       "      <td>Senior Java Developer - Security Engineering -...</td>\n",
       "      <td>Bachelor’s degree in Computer Science, Enginee...</td>\n",
       "      <td>1</td>\n",
       "    </tr>\n",
       "    <tr>\n",
       "      <th>16</th>\n",
       "      <td>Senior Java Developer Job</td>\n",
       "      <td>Qualifications\\nBS or MS degree in Computer Sc...</td>\n",
       "      <td>1</td>\n",
       "    </tr>\n",
       "    <tr>\n",
       "      <th>17</th>\n",
       "      <td>Java Developer in S4HANA Finance Job</td>\n",
       "      <td>Required skills\\nBachelor degree or above in C...</td>\n",
       "      <td>1</td>\n",
       "    </tr>\n",
       "    <tr>\n",
       "      <th>18</th>\n",
       "      <td>Java Developer - SAP Concur Job</td>\n",
       "      <td>2+ years programming experience of Java and  o...</td>\n",
       "      <td>1</td>\n",
       "    </tr>\n",
       "    <tr>\n",
       "      <th>19</th>\n",
       "      <td>SAP NS2 Java Developer-Chantilly-20151 Job</td>\n",
       "      <td>Developing Java and J2EE based web application...</td>\n",
       "      <td>1</td>\n",
       "    </tr>\n",
       "    <tr>\n",
       "      <th>20</th>\n",
       "      <td>SAP Fieldglass iXp Intern- Java Developer Job</td>\n",
       "      <td>We’re looking for someone who can challenge th...</td>\n",
       "      <td>1</td>\n",
       "    </tr>\n",
       "    <tr>\n",
       "      <th>21</th>\n",
       "      <td>Java Developer (student, part-time) Job</td>\n",
       "      <td>Qualifications\\r\\n• Proficiency in Java SE, JA...</td>\n",
       "      <td>1</td>\n",
       "    </tr>\n",
       "    <tr>\n",
       "      <th>22</th>\n",
       "      <td>Senior Java Developer, Near Shore Team (Buchar...</td>\n",
       "      <td>Possess 8+ years of experience working in a pr...</td>\n",
       "      <td>1</td>\n",
       "    </tr>\n",
       "  </tbody>\n",
       "</table>\n",
       "</div>"
      ],
      "text/plain": [
       "                                            Job Title  \\\n",
       "0   Intern, Innovation Center - Engineers and Data...   \n",
       "1             SAP IBS iXp Intern - Data Scientist Job   \n",
       "2   SAP Concur iXp intern- Customer Experience Tra...   \n",
       "3    Senior Data Scientist - SAP Business Network Job   \n",
       "4   Working Student: Data Scientist (Data Engineer...   \n",
       "5           SAP Concur iXp Intern- Data Scientist Job   \n",
       "6                          Data Scientist Advisor Job   \n",
       "7       SAP Fieldglass iXp Intern- Data Scientist Job   \n",
       "8                                  Data Scientist Job   \n",
       "9                            Data Scientist - F/M Job   \n",
       "10                            IBSO Data Scientist Job   \n",
       "11  SAP Leonardo Machine Learning Consultant / Dat...   \n",
       "12                       Java Developer Associate Job   \n",
       "13                            Java Developer- EWM Job   \n",
       "14                     Senior Java Developer- EWM Job   \n",
       "15  Senior Java Developer - Security Engineering -...   \n",
       "16                          Senior Java Developer Job   \n",
       "17               Java Developer in S4HANA Finance Job   \n",
       "18                    Java Developer - SAP Concur Job   \n",
       "19         SAP NS2 Java Developer-Chantilly-20151 Job   \n",
       "20      SAP Fieldglass iXp Intern- Java Developer Job   \n",
       "21            Java Developer (student, part-time) Job   \n",
       "22  Senior Java Developer, Near Shore Team (Buchar...   \n",
       "\n",
       "                                         Requirements  job_id  \n",
       "0   Major in Software or Computer Engineering or D...       0  \n",
       "1   SAP’s Internship Experience Project is SAP’s g...       0  \n",
       "2   We’re looking for someone who can challenge th...       0  \n",
       "3   The SAP Business Network Team is looking for a...       0  \n",
       "4   Student (f or m) at a university or university...       0  \n",
       "5   We’re looking for someone who can challenge th...       0  \n",
       "6   Prior experience with software or IT organizat...       0  \n",
       "7   We’re looking for someone who can challenge th...       0  \n",
       "8   Masters degree in data science, analytics, sta...       0  \n",
       "9   Strong knowledge in one more multiple of the f...       0  \n",
       "10  BS or MS in Statistics, Mathematics, Computer ...       0  \n",
       "11  For the Machine Learning  or  Data Scientist p...       0  \n",
       "12  We’re looking for you, a motivated and talente...       1  \n",
       "13  We’re looking for you, a motivated and talente...       1  \n",
       "14  We’re looking for you, a motivated and talente...       1  \n",
       "15  Bachelor’s degree in Computer Science, Enginee...       1  \n",
       "16  Qualifications\\nBS or MS degree in Computer Sc...       1  \n",
       "17  Required skills\\nBachelor degree or above in C...       1  \n",
       "18  2+ years programming experience of Java and  o...       1  \n",
       "19  Developing Java and J2EE based web application...       1  \n",
       "20  We’re looking for someone who can challenge th...       1  \n",
       "21  Qualifications\\r\\n• Proficiency in Java SE, JA...       1  \n",
       "22  Possess 8+ years of experience working in a pr...       1  "
      ]
     },
     "execution_count": 22,
     "metadata": {},
     "output_type": "execute_result"
    }
   ],
   "source": [
    "dfx"
   ]
  },
  {
   "cell_type": "markdown",
   "metadata": {},
   "source": [
    "Note that we are dealing with a fairly balanced data set, that is, we have about as many samples for each job_id."
   ]
  },
  {
   "cell_type": "markdown",
   "metadata": {},
   "source": [
    "<a id='classify'></a>\n",
    "### 2.3 Vectorization and classification"
   ]
  },
  {
   "cell_type": "markdown",
   "metadata": {},
   "source": [
    "We are ready to split the data into train and test sets, vectorize the requirement feature, and train a classifier using a grid search to tune hyper-parameters. To simplify and streamline this task and to avoid bugs such as data leakage, we use a pipeline.\n",
    "\n",
    "Note that the result of vectorization will be a sparse matrix with one row containing the weights for each word contained in each job description. As for the classifier, scikit-learn has many to choose from so we'll just take one off the shelf for now. We use a Support Vector Machine (SVM) because this performs well on sparse data."
   ]
  },
  {
   "cell_type": "code",
   "execution_count": 23,
   "metadata": {},
   "outputs": [
    {
     "name": "stdout",
     "output_type": "stream",
     "text": [
      "Fitting 3 folds for each of 14 candidates, totalling 42 fits\n"
     ]
    },
    {
     "name": "stderr",
     "output_type": "stream",
     "text": [
      "[Parallel(n_jobs=-1)]: Using backend LokyBackend with 8 concurrent workers.\n"
     ]
    },
    {
     "name": "stdout",
     "output_type": "stream",
     "text": [
      "Optimized parameters:  {'clf__C': 1, 'clf__kernel': 'linear'}\n"
     ]
    },
    {
     "name": "stderr",
     "output_type": "stream",
     "text": [
      "[Parallel(n_jobs=-1)]: Done  42 out of  42 | elapsed:    2.5s finished\n"
     ]
    }
   ],
   "source": [
    "# Split the data into train and test portions\n",
    "from sklearn.model_selection import train_test_split\n",
    "X = dfx['Requirements']\n",
    "y = dfx['job_id']\n",
    "X_train, X_test, y_train, y_test = train_test_split(X, y, random_state = 0)\n",
    "\n",
    "# Create pipeline for vectorization and classification\n",
    "from sklearn.pipeline import Pipeline\n",
    "from sklearn.feature_extraction.text import TfidfVectorizer\n",
    "from sklearn import svm\n",
    "from sklearn.model_selection import GridSearchCV\n",
    "tfidf_svm = Pipeline([\n",
    "    # vectorizer using our custom tokenizer from 1.1\n",
    "    ('vec', TfidfVectorizer(min_df = 2, ngram_range = (1, 2), tokenizer = tokenize)),\n",
    "    ('clf', svm.SVC(probability = True, random_state = 0))\n",
    "])\n",
    "vectorizer = tfidf_svm.named_steps['vec']\n",
    "clf = tfidf_svm.named_steps['clf']\n",
    "\n",
    "# Ignore deprecation warnings\n",
    "import warnings\n",
    "warnings.filterwarnings(\"ignore\", category = DeprecationWarning)\n",
    "\n",
    "# Find best parameters of SVM\n",
    "parameters = {\n",
    "    'clf__kernel': ['linear', 'rbf'],\n",
    "    'clf__C': [0.001, 0.01, 0.1, 1, 10, 100, 1000]\n",
    "}\n",
    "grid_search = GridSearchCV(tfidf_svm, parameters, cv = 3, n_jobs = -1, verbose = 1)\n",
    "grid_search.fit(X_train, y_train)\n",
    "print('Optimized parameters: ', grid_search.best_params_)"
   ]
  },
  {
   "cell_type": "code",
   "execution_count": 24,
   "metadata": {},
   "outputs": [
    {
     "data": {
      "text/plain": [
       "Pipeline(memory=None,\n",
       "     steps=[('vec', TfidfVectorizer(analyzer='word', binary=False, decode_error='strict',\n",
       "        dtype=<class 'numpy.float64'>, encoding='utf-8', input='content',\n",
       "        lowercase=True, max_df=1.0, max_features=None, min_df=2,\n",
       "        ngram_range=(1, 2), norm='l2', preprocessor=None, smooth_idf=True,\n",
       " ...inear', max_iter=-1, probability=True, random_state=0,\n",
       "  shrinking=True, tol=0.001, verbose=False))])"
      ]
     },
     "execution_count": 24,
     "metadata": {},
     "output_type": "execute_result"
    }
   ],
   "source": [
    "# Set pipeline parameters to grid search result and train model\n",
    "tfidf_svm.set_params(**grid_search.best_params_)\n",
    "tfidf_svm.fit(X_train, y_train)"
   ]
  },
  {
   "cell_type": "markdown",
   "metadata": {},
   "source": [
    "That's it! The model is optimized and can be scored on the test set."
   ]
  },
  {
   "cell_type": "code",
   "execution_count": 25,
   "metadata": {},
   "outputs": [
    {
     "name": "stdout",
     "output_type": "stream",
     "text": [
      "Model accuracy: 83.33%\n"
     ]
    }
   ],
   "source": [
    "print(\"Model accuracy: {:.2f}%\".format(100 * tfidf_svm.score(X_test, y_test)))"
   ]
  },
  {
   "cell_type": "markdown",
   "metadata": {},
   "source": [
    "And... we've got a great score to start with. Let's see how certain the classifier is about which class each test sample belongs to."
   ]
  },
  {
   "cell_type": "code",
   "execution_count": 26,
   "metadata": {},
   "outputs": [
    {
     "data": {
      "text/html": [
       "<div>\n",
       "<style scoped>\n",
       "    .dataframe tbody tr th:only-of-type {\n",
       "        vertical-align: middle;\n",
       "    }\n",
       "\n",
       "    .dataframe tbody tr th {\n",
       "        vertical-align: top;\n",
       "    }\n",
       "\n",
       "    .dataframe thead th {\n",
       "        text-align: right;\n",
       "    }\n",
       "</style>\n",
       "<table border=\"1\" class=\"dataframe\">\n",
       "  <thead>\n",
       "    <tr style=\"text-align: right;\">\n",
       "      <th></th>\n",
       "      <th>probablity of job_id = 0</th>\n",
       "      <th>probablity of job_id = 1</th>\n",
       "      <th>job_id</th>\n",
       "    </tr>\n",
       "  </thead>\n",
       "  <tbody>\n",
       "    <tr>\n",
       "      <th>11</th>\n",
       "      <td>0.801278</td>\n",
       "      <td>0.198722</td>\n",
       "      <td>0</td>\n",
       "    </tr>\n",
       "    <tr>\n",
       "      <th>10</th>\n",
       "      <td>0.843500</td>\n",
       "      <td>0.156500</td>\n",
       "      <td>0</td>\n",
       "    </tr>\n",
       "    <tr>\n",
       "      <th>21</th>\n",
       "      <td>0.136125</td>\n",
       "      <td>0.863875</td>\n",
       "      <td>1</td>\n",
       "    </tr>\n",
       "    <tr>\n",
       "      <th>14</th>\n",
       "      <td>0.010663</td>\n",
       "      <td>0.989337</td>\n",
       "      <td>1</td>\n",
       "    </tr>\n",
       "    <tr>\n",
       "      <th>20</th>\n",
       "      <td>0.623791</td>\n",
       "      <td>0.376209</td>\n",
       "      <td>1</td>\n",
       "    </tr>\n",
       "    <tr>\n",
       "      <th>1</th>\n",
       "      <td>0.940135</td>\n",
       "      <td>0.059865</td>\n",
       "      <td>0</td>\n",
       "    </tr>\n",
       "  </tbody>\n",
       "</table>\n",
       "</div>"
      ],
      "text/plain": [
       "    probablity of job_id = 0  probablity of job_id = 1  job_id\n",
       "11                  0.801278                  0.198722       0\n",
       "10                  0.843500                  0.156500       0\n",
       "21                  0.136125                  0.863875       1\n",
       "14                  0.010663                  0.989337       1\n",
       "20                  0.623791                  0.376209       1\n",
       "1                   0.940135                  0.059865       0"
      ]
     },
     "execution_count": 26,
     "metadata": {},
     "output_type": "execute_result"
    }
   ],
   "source": [
    "# Print class probabilities\n",
    "preds = grid_search.predict_proba(X_test)\n",
    "probs = pd.DataFrame(preds, columns = ['probablity of job_id = 0', 'probablity of job_id = 1'], \\\n",
    "             index = y_test.index)\n",
    "pd.concat([probs, y_test], axis = 1)"
   ]
  },
  {
   "cell_type": "markdown",
   "metadata": {},
   "source": [
    "We see that sample number 20 was predicted incorrectly."
   ]
  },
  {
   "cell_type": "code",
   "execution_count": 27,
   "metadata": {},
   "outputs": [
    {
     "data": {
      "text/plain": [
       "'We’re looking for someone who can challenge the status quo and likes to stay curious. You enjoy working on meaningful projects and are energized by lifelong learning.\\nCandidates to currently be enrolled in an undergraduate or master’s degree program which is applicable to the position (Computer Science, Information Systems, Software Engineering or equivalent)\\nStrong programming skills in Java, JavaScript, SQL\\nCreate web applications using Java and or or Spring Boot\\nFamiliarity with web security, OWASP Top 10 a plus\\nFamiliarity with Maven, Git, JIRA, JUnit a plus\\nStrong communication skills that include the ability to effectively articulate technical challenges and solutions.\\nEnjoys research and problem solving'"
      ]
     },
     "execution_count": 27,
     "metadata": {},
     "output_type": "execute_result"
    }
   ],
   "source": [
    "dfx['Requirements'][20]"
   ]
  },
  {
   "cell_type": "markdown",
   "metadata": {},
   "source": [
    "Looking at the text, it is at first not clear why this got misclassified despite the multiple occurrence of \"Java\". However, some further digging yields that the beginning sentence \"We're looking for someone...\" is one of the standard opening sentences SAP uses at the beginning of internship job descriptions and it just so happends that there were three such positions listed with label job_id = 0. Note that despite this, the model still gave the sample a ~38% chance of being job_id = 1 which is the highest ambiguity in any of the test cases."
   ]
  },
  {
   "cell_type": "markdown",
   "metadata": {},
   "source": [
    "<a id='visualize'></a>\n",
    "### 2.4 Visualization"
   ]
  },
  {
   "cell_type": "markdown",
   "metadata": {},
   "source": [
    "Let's explore a bit more by showing the features (words) that the SVM picked up on the most."
   ]
  },
  {
   "cell_type": "code",
   "execution_count": 28,
   "metadata": {},
   "outputs": [
    {
     "name": "stdout",
     "output_type": "stream",
     "text": [
      "Most important words:\n",
      "-0.820, data\n",
      " 0.547, applications\n",
      " 0.504, web\n",
      "-0.494, data science\n",
      " 0.494, development\n",
      " 0.484, java\n",
      "-0.462, sap\n",
      " 0.436, ability\n",
      "-0.418, learning\n",
      "-0.395, products\n",
      "-0.394, analytics\n",
      "-0.393, solutions\n",
      " 0.391, degree computer\n",
      " 0.385, security\n",
      "-0.373, python\n",
      " 0.371, good\n",
      "-0.363, statistics\n",
      "Least important words:\n",
      " 0.001, master\n",
      "-0.001, english\n",
      " 0.002, experience\n",
      "-0.002, ci\n",
      "-0.002, cd\n",
      " 0.003, information systems\n"
     ]
    }
   ],
   "source": [
    "# Model coefficient vector\n",
    "coef_vec = clf.coef_.toarray()[0]\n",
    "#coef_vec = clf_model.coef_[0]\n",
    "\n",
    "# Get indices of most and least important features\n",
    "most_important_features = np.abs(coef_vec).argsort()[-1:-18:-1]\n",
    "least_important_features = np.abs(coef_vec).argsort()[:6]\n",
    "\n",
    "# Display result\n",
    "print('Most important words:')\n",
    "for ind in most_important_features:\n",
    "    print('{:6.3f}, {}'.format(coef_vec[ind], vectorizer.get_feature_names()[ind]))\n",
    "print('Least important words:')\n",
    "for ind in least_important_features:\n",
    "    print('{:6.3f}, {}'.format(coef_vec[ind], vectorizer.get_feature_names()[ind]))"
   ]
  },
  {
   "cell_type": "markdown",
   "metadata": {},
   "source": [
    "The closer to -1, the more the result tends toward job_id = 0 and the closer to +1, toward job_id = 1. As we see, the classifier learned that **data**, **python**, and **analytics** belong to a *data scientist* and that **development**, **java**, and **web** belong to a *java developer*."
   ]
  },
  {
   "cell_type": "markdown",
   "metadata": {},
   "source": [
    "Lastly, let's use principal component analysis to project our high-dimensional sparse matrix down to 3D and visualize our result. Ideally, we should be able to detect a hyperplane (the \"decision boundary\") which separates the results into data scientists and Java developers."
   ]
  },
  {
   "cell_type": "code",
   "execution_count": 29,
   "metadata": {},
   "outputs": [
    {
     "name": "stdout",
     "output_type": "stream",
     "text": [
      "The first three principal components explain 37.1% of the variance in the dataset.\n"
     ]
    }
   ],
   "source": [
    "from sklearn.decomposition import PCA\n",
    "from mpl_toolkits.mplot3d import Axes3D\n",
    "\n",
    "X_train = vectorizer.fit_transform(X_train).toarray()\n",
    "X_test = vectorizer.transform(X_test).toarray()\n",
    "\n",
    "pca = PCA(n_components = 3)\n",
    "pca.fit(X_train)\n",
    "pca_X_train = pca.transform(X_train)\n",
    "pca_X_test = pca.transform(X_test)\n",
    "print('The first three principal components explain {:.1f}% of the variance in the \\\n",
    "dataset.'.format(100 * sum(pca.explained_variance_ratio_)))"
   ]
  },
  {
   "cell_type": "code",
   "execution_count": 30,
   "metadata": {},
   "outputs": [
    {
     "data": {
      "image/png": "[encoded data removed]",
      "text/plain": [
       "<Figure size 720x576 with 1 Axes>"
      ]
     },
     "metadata": {
      "needs_background": "light"
     },
     "output_type": "display_data"
    }
   ],
   "source": [
    "from collections import OrderedDict\n",
    "\n",
    "# Label list for each data set\n",
    "labels_train = ['Java Developer' if _ else 'Data Scientist' for _ in y_train]\n",
    "labels_test = ['Java Developer' if _ else 'Data Scientist' for _ in y_test]\n",
    "\n",
    "# Label to color dict\n",
    "label_color_dict = {0: 'red', 1: 'green'}\n",
    "\n",
    "# Color vector creation\n",
    "cvec_train = [label_color_dict[label] for label in y_train]\n",
    "cvec_test = [label_color_dict[label] for label in y_test]\n",
    "\n",
    "# Create the scatter plot by plotting each point separately\n",
    "fig = plt.figure(1, figsize = (10, 8))\n",
    "ax = Axes3D(fig, rect = [0, 0, 1, 1], elev = 35, azim = 92)\n",
    "for i in range(len(pca_X_train)):\n",
    "    ax.scatter(pca_X_train[i, 0], pca_X_train[i, 1], pca_X_train[i, 2], \\\n",
    "               c = cvec_train[i], edgecolor = '', alpha = 0.5, label = labels_train[i])\n",
    "for i in range(len(pca_X_test)):\n",
    "    ax.scatter(pca_X_test[i, 0], pca_X_test[i, 1], pca_X_test[i, 2], c = cvec_test[i], \\\n",
    "            edgecolor = '', alpha = 0.5, label = labels_test[i] + ' (test)', marker = 'x')\n",
    "\n",
    "ax.scatter(pca_X_test[4, 0], pca_X_test[4, 1], pca_X_test[4, 2], c = 'blue', \\\n",
    "            edgecolor = '', alpha = 0.5, label = 'DS (should be JD)', marker = 'x')\n",
    "\n",
    "# Add the axis labels\n",
    "ax.set_xlabel('PC 1 (%.2f%%)' % (pca.explained_variance_ratio_[0]*100))\n",
    "ax.set_ylabel('PC 2 (%.2f%%)' % (pca.explained_variance_ratio_[1]*100))\n",
    "ax.set_zlabel('PC 3 (%.2f%%)' % (pca.explained_variance_ratio_[2]*100))\n",
    "ax.set_facecolor('white')\n",
    "ax.w_xaxis.set_pane_color((.8,.8,.8,.8))\n",
    "ax.w_yaxis.set_pane_color((.8,.8,.8,.8))\n",
    "ax.w_zaxis.set_pane_color((.8,.8,.8,1))\n",
    "\n",
    "# Get unique labels for legend\n",
    "handles, labels = plt.gca().get_legend_handles_labels()\n",
    "by_label = OrderedDict(zip(labels, handles))\n",
    "#by_label.move_to_end('Java Developer (test)')\n",
    "by_label.move_to_end('Data Scientist (test)')\n",
    "by_label.move_to_end('DS (should be JD)')\n",
    "ax.legend(by_label.values(), by_label.keys())\n",
    "\n",
    "plt.show()"
   ]
  },
  {
   "cell_type": "markdown",
   "metadata": {},
   "source": [
    "Taking into account only the three principal components, we see that the two classes (red and green) are for the most part well separated, both, in the training as well as in the test set (dots and crosses). We have also highlighted in blue the one sample from the test set that got misclassified. It has indeed strayed far from its friends."
   ]
  },
  {
   "cell_type": "markdown",
   "metadata": {},
   "source": [
    "<a id='predict'></a>\n",
    "### 2.5 Prediction"
   ]
  },
  {
   "cell_type": "markdown",
   "metadata": {},
   "source": [
    "Lastly, let's make some predictions on new data."
   ]
  },
  {
   "cell_type": "code",
   "execution_count": 31,
   "metadata": {},
   "outputs": [],
   "source": [
    "req1 = \"\"\"\n",
    "The ideal candidate should know Python and SQL.\n",
    "Moreover, he should also have a degree in mathematics.\n",
    "\"\"\""
   ]
  },
  {
   "cell_type": "code",
   "execution_count": 32,
   "metadata": {},
   "outputs": [
    {
     "name": "stdout",
     "output_type": "stream",
     "text": [
      "[0]\n"
     ]
    }
   ],
   "source": [
    "print(tfidf_svm.predict([req1]))"
   ]
  },
  {
   "cell_type": "markdown",
   "metadata": {},
   "source": [
    "Correct! This was supposed to be a data scientist."
   ]
  },
  {
   "cell_type": "code",
   "execution_count": 33,
   "metadata": {},
   "outputs": [],
   "source": [
    "req2 = \"\"\"\n",
    "The ideal candidate should have studied computer science and be proficient in Python.\n",
    "\"\"\""
   ]
  },
  {
   "cell_type": "code",
   "execution_count": 34,
   "metadata": {},
   "outputs": [],
   "source": [
    "req3 = \"\"\"\n",
    "The ideal candidate should have studied computer science and be proficient in Java.\n",
    "\"\"\""
   ]
  },
  {
   "cell_type": "code",
   "execution_count": 35,
   "metadata": {},
   "outputs": [],
   "source": [
    "req4 = \"\"\"\n",
    "The ideal candidate should have studied mathematics and be proficient in Java.\n",
    "\"\"\""
   ]
  },
  {
   "cell_type": "code",
   "execution_count": 36,
   "metadata": {},
   "outputs": [
    {
     "name": "stdout",
     "output_type": "stream",
     "text": [
      "[0 1 1]\n"
     ]
    }
   ],
   "source": [
    "print(tfidf_svm.predict([req2, req3, req4]))"
   ]
  },
  {
   "cell_type": "markdown",
   "metadata": {},
   "source": [
    "The programming language a given computer scientist knows tips the balance between whether he should be a data scientist or a Java developer. Also, as we know from the \"most important words\" analysis, \"Java\" has more weight than \"mathematics\" and so the last result is classified as a Java developer."
   ]
  },
  {
   "cell_type": "markdown",
   "metadata": {},
   "source": [
    "<a id='conclusion'></a>\n",
    "## 3. Conclusion"
   ]
  },
  {
   "cell_type": "markdown",
   "metadata": {},
   "source": [
    "In this experiment, we have taken a job from the SAP careers website and analyzed it for its most important requirements. Different metrics complemented each other to paint a great overall picture what to look for in a candidate. The techniques involved in dissecting job requirements evolved around Natural Language Processing (NLP) for which we used scikit-learn's NLTK library.\n",
    "\n",
    "We then went on to build a machine model, based on a support vector machine (SVM), which is able to predict the job label given a list of requirements. To accomplish this, we needed to first convert a given block of text into a vector which can be evaluated by the model. This process was facilitated by scikit-learn's TF-IDF (term frequency-inverse document frequency) library which reflects the importance of a word in a document in a collection of documents (the corpus). Our trained model achieved a high accuracy of only one misclassified sample out of six for which we found an explanation. We also tested the model on made-up sentences and achieved wonderful accuracy.\n",
    "\n",
    "Going forward, we could expand the current RESTful API to also make the machine learning model accessible and experiment with alternative databases such as MongoDB."
   ]
  },
  {
   "cell_type": "code",
   "execution_count": null,
   "metadata": {},
   "outputs": [],
   "source": []
  }
 ],
 "metadata": {
  "kernelspec": {
   "display_name": "Python 3",
   "language": "python",
   "name": "python3"
  },
  "language_info": {
   "codemirror_mode": {
    "name": "ipython",
    "version": 3
   },
   "file_extension": ".py",
   "mimetype": "text/x-python",
   "name": "python",
   "nbconvert_exporter": "python",
   "pygments_lexer": "ipython3",
   "version": "3.7.2"
  }
 },
 "nbformat": 4,
 "nbformat_minor": 2
}
